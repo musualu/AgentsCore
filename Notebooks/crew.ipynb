{
 "cells": [
  {
   "cell_type": "code",
   "execution_count": 22,
   "id": "35758611-f687-432a-8204-3e29a2f6be48",
   "metadata": {},
   "outputs": [],
   "source": [
    "import warnings\n",
    "warnings.filterwarnings('ignore')"
   ]
  },
  {
   "cell_type": "code",
   "execution_count": 23,
   "id": "04a58cee-7546-4243-9ef7-c40720fc068c",
   "metadata": {},
   "outputs": [],
   "source": [
    "import os\n",
    "from crewai import Agent, Task, Crew, Process\n",
    "from langchain_openai import ChatOpenAI\n",
    "from dotenv import load_dotenv\n",
    "\n",
    "# Setze deinen OpenAI API-Schlüssel\n",
    "# os.environ[\"OPENAI_API_KEY\"] = \"DEIN_OPENAI_API_SCHLÜSSEL\"\n",
    "\n",
    "# Liest den API-Key aus der Umgebungsvariablen\n",
    "# load_dotenv()\n",
    "openai_api_key = os.getenv(\"OPENAI_API_KEY\")\n",
    "# print(\"API Key geladen:\", openai_api_key)  # Optional: nur zum Testen, nicht in der Produktion verwenden\n",
    "\n",
    "\n",
    "# Initialisiere das GPT-Modell\n",
    "llm = ChatOpenAI(model=\"gpt-3.5-turbo\", temperature=0.7)"
   ]
  },
  {
   "cell_type": "code",
   "execution_count": 24,
   "id": "eeb10432",
   "metadata": {},
   "outputs": [],
   "source": [
    "# Researcher-Agent\n",
    "researcher = Agent(\n",
    "    role=\"Forscher\",\n",
    "    goal=\"Relevante Informationen zu einem bestimmten Thema sammeln\",\n",
    "    backstory=\"Du bist ein erfahrener Forscher, der sich darauf spezialisiert hat, komplexe Themen zu analysieren und relevante Daten zu sammeln.\",\n",
    "    verbose=True,\n",
    "    llm=llm\n",
    ")\n",
    "\n",
    "# Analyst-Agent\n",
    "analyst = Agent(\n",
    "    role=\"Analyst\",\n",
    "    goal=\"Die gesammelten Informationen analysieren und Muster erkennen\",\n",
    "    backstory=\"Du bist ein analytischer Denker, der Daten interpretiert und daraus Schlussfolgerungen zieht.\",\n",
    "    verbose=True,\n",
    "    llm=llm\n",
    ")\n",
    "\n",
    "# Writer-Agent\n",
    "writer = Agent(\n",
    "    role=\"Autor\",\n",
    "    goal=\"Einen klaren und prägnanten Bericht auf Basis der Analysen schreiben\",\n",
    "    backstory=\"Du bist ein talentierter Autor, der komplexe Informationen in verständliche Texte übersetzt.\",\n",
    "    verbose=True,\n",
    "    llm=llm\n",
    ")"
   ]
  },
  {
   "cell_type": "code",
   "execution_count": 25,
   "id": "d080ef97",
   "metadata": {},
   "outputs": [],
   "source": [
    "# Task für den Researcher\n",
    "research_task = Task(\n",
    "    description=\"Finde relevante Informationen über die Auswirkungen von KI auf den Arbeitsmarkt.\",\n",
    "    expected_output=\"Eine Zusammenfassung der wichtigsten Artikel, Studien und Trends zur Auswirkung von KI auf den Arbeitsmarkt.\",\n",
    "    agent=researcher\n",
    ")\n",
    "\n",
    "# Task für den Analyst\n",
    "analysis_task = Task(\n",
    "    description=\"Analysiere die gesammelten Informationen und identifiziere die wichtigsten Trends und Herausforderungen.\",\n",
    "    expected_output=\"Eine detaillierte Analyse der Trends, einschließlich potenzieller Risiken und Chancen für verschiedene Branchen.\",\n",
    "    agent=analyst\n",
    ")\n",
    "\n",
    "# Task für den Writer\n",
    "writing_task = Task(\n",
    "    description=\"Schreibe einen zusammenfassenden Bericht über die Auswirkungen von KI auf den Arbeitsmarkt basierend auf den Analysen.\",\n",
    "    expected_output=\"Ein klar strukturierter und leicht verständlicher Bericht im Markdown-Format, der die wichtigsten Erkenntnisse enthält.\",\n",
    "    agent=writer\n",
    ")"
   ]
  },
  {
   "cell_type": "code",
   "execution_count": 26,
   "id": "3b1a637a",
   "metadata": {},
   "outputs": [
    {
     "name": "stderr",
     "output_type": "stream",
     "text": [
      "WARNING:opentelemetry.trace:Overriding of current TracerProvider is not allowed\n"
     ]
    },
    {
     "name": "stdout",
     "output_type": "stream",
     "text": [
      "\u001b[1m\u001b[95m# Agent:\u001b[00m \u001b[1m\u001b[92mForscher\u001b[00m\n",
      "\u001b[95m## Task:\u001b[00m \u001b[92mFinde relevante Informationen über die Auswirkungen von KI auf den Arbeitsmarkt.\u001b[00m\n",
      "\n",
      "\n",
      "\u001b[1m\u001b[95m# Agent:\u001b[00m \u001b[1m\u001b[92mForscher\u001b[00m\n",
      "\u001b[95m## Final Answer:\u001b[00m \u001b[92m\n",
      "In den letzten Jahren hat der Einsatz von künstlicher Intelligenz (KI) auf dem Arbeitsmarkt zunehmend an Bedeutung gewonnen und verschiedene Auswirkungen auf die Beschäftigungssituation gezeigt. Eine Vielzahl von Artikeln, Studien und Trends beleuchten diese Entwicklung und bieten Einblicke in die Folgen von KI auf den Arbeitsmarkt.\n",
      "\n",
      "Artikel von McKinsey & Company aus dem Jahr 2017 betonen, dass KI zwar einige Arbeitsplätze ersetzen kann, aber auch neue Arbeitsmöglichkeiten schafft. Es wird darauf hingewiesen, dass bis 2030 etwa 75 Millionen bis 375 Millionen Menschen weltweit von der Automatisierung betroffen sein könnten, was Umschulungen und Anpassungen erfordert.\n",
      "\n",
      "Eine Studie des Weltwirtschaftsforums von 2018 hebt hervor, dass KI bis 2022 mehr Arbeitsplätze schaffen als vernichten wird, wobei bestimmte Branchen stärker betroffen sein könnten als andere. Es wird empfohlen, dass Regierungen und Unternehmen Maßnahmen ergreifen, um die Arbeitskräfte auf die Veränderungen vorzubereiten.\n",
      "\n",
      "Trends zeigen, dass bestimmte Berufe anfälliger für Automatisierung sind als andere. Routinemäßige und repetitive Tätigkeiten sind eher von KI betroffen, während Tätigkeiten, die komplexe zwischenmenschliche Interaktionen erfordern, weniger wahrscheinlich automatisiert werden. Es wird auch diskutiert, wie KI die Arbeitsweise in verschiedenen Branchen wie Gesundheitswesen, Finanzwesen und Fertigung verändert.\n",
      "\n",
      "Insgesamt zeigen diese Artikel, Studien und Trends, dass KI den Arbeitsmarkt nachhaltig verändern wird. Es ist entscheidend, dass Regierungen, Bildungseinrichtungen und Unternehmen zusammenarbeiten, um die Arbeitskräfte für die Zukunft zu stärken und sicherzustellen, dass die Auswirkungen von KI auf den Arbeitsmarkt positiv gestaltet werden können.\u001b[00m\n",
      "\n",
      "\n",
      "\u001b[1m\u001b[95m# Agent:\u001b[00m \u001b[1m\u001b[92mAnalyst\u001b[00m\n",
      "\u001b[95m## Task:\u001b[00m \u001b[92mAnalysiere die gesammelten Informationen und identifiziere die wichtigsten Trends und Herausforderungen.\u001b[00m\n",
      "\n",
      "\n",
      "\u001b[1m\u001b[95m# Agent:\u001b[00m \u001b[1m\u001b[92mAnalyst\u001b[00m\n",
      "\u001b[95m## Final Answer:\u001b[00m \u001b[92m\n",
      "Eine detaillierte Analyse der Trends im Zusammenhang mit dem Einsatz von künstlicher Intelligenz (KI) auf dem Arbeitsmarkt zeigt, dass sich dieser Bereich rasant entwickelt und vielfältige Auswirkungen auf die Beschäftigungssituation hat. Artikel und Studien, wie die von McKinsey & Company aus dem Jahr 2017 und dem Weltwirtschaftsforum von 2018, betonen, dass KI sowohl Arbeitsplätze ersetzen als auch neue schaffen kann. Bis zum Jahr 2030 könnten laut McKinsey & Company weltweit zwischen 75 Millionen und 375 Millionen Menschen von Automatisierung betroffen sein, was eine verstärkte Umschulung und Anpassung erfordert.\n",
      "\n",
      "Die Trends deuten darauf hin, dass bestimmte Berufe anfälliger für Automatisierung sind, insbesondere solche, die routinemäßige und repetitive Tätigkeiten beinhalten. Andererseits sind Tätigkeiten, die komplexe zwischenmenschliche Interaktionen erfordern, weniger wahrscheinlich automatisiert zu werden. Es wird auch darauf hingewiesen, dass KI bis 2022 voraussichtlich mehr Arbeitsplätze schaffen als vernichten wird, wobei bestimmte Branchen stärker betroffen sein könnten als andere.\n",
      "\n",
      "Die Veränderungen durch KI betreffen verschiedene Branchen wie das Gesundheitswesen, Finanzwesen und die Fertigung und erfordern eine Anpassung der Arbeitskräfte an die neuen Anforderungen. Es ist entscheidend, dass Regierungen, Bildungseinrichtungen und Unternehmen zusammenarbeiten, um die Arbeitskräfte für die Herausforderungen der Zukunft zu stärken und sicherzustellen, dass die Auswirkungen von KI auf den Arbeitsmarkt positiv gestaltet werden können. Es liegt an den Akteuren, geeignete Maßnahmen zu ergreifen, um die Chancen von KI zu nutzen und gleichzeitig mögliche Risiken zu minimieren.\u001b[00m\n",
      "\n",
      "\n",
      "\u001b[1m\u001b[95m# Agent:\u001b[00m \u001b[1m\u001b[92mAutor\u001b[00m\n",
      "\u001b[95m## Task:\u001b[00m \u001b[92mSchreibe einen zusammenfassenden Bericht über die Auswirkungen von KI auf den Arbeitsmarkt basierend auf den Analysen.\u001b[00m\n",
      "\n",
      "\n",
      "\u001b[1m\u001b[95m# Agent:\u001b[00m \u001b[1m\u001b[92mAutor\u001b[00m\n",
      "\u001b[95m## Final Answer:\u001b[00m \u001b[92m\n",
      "# Auswirkungen von KI auf den Arbeitsmarkt\n",
      "\n",
      "Die Analyse der Auswirkungen von künstlicher Intelligenz (KI) auf den Arbeitsmarkt verdeutlicht eine rapide Entwicklung mit vielfältigen Konsequenzen für die Beschäftigungssituation. Untersuchungen, wie die von McKinsey & Company aus 2017 und dem Weltwirtschaftsforum von 2018, betonen, dass KI sowohl Arbeitsplätze ersetzen als auch neue schaffen kann. Bis 2030 könnten laut McKinsey & Company weltweit zwischen 75 Millionen und 375 Millionen Menschen von Automatisierung betroffen sein, was eine verstärkte Umschulung und Anpassung erfordert.\n",
      "\n",
      "Es zeigt sich, dass bestimmte Berufe anfälliger für Automatisierung sind, insbesondere solche mit routinemäßigen und repetitiven Tätigkeiten. Tätigkeiten, die komplexe zwischenmenschliche Interaktionen erfordern, hingegen sind weniger wahrscheinlich automatisiert zu werden. Prognosen deuten darauf hin, dass KI bis 2022 voraussichtlich mehr Arbeitsplätze schaffen als vernichten wird, wobei einige Branchen stärker betroffen sein könnten.\n",
      "\n",
      "Die Veränderungen durch KI erstrecken sich auf verschiedene Branchen wie das Gesundheitswesen, Finanzwesen und die Fertigung, was eine Anpassung der Arbeitskräfte an neue Anforderungen erfordert. Eine zukunftsorientierte Stärkung der Arbeitskräfte durch Zusammenarbeit von Regierungen, Bildungseinrichtungen und Unternehmen ist entscheidend, um die positiven Auswirkungen von KI auf den Arbeitsmarkt zu gewährleisten. Es liegt in der Verantwortung der Akteure, geeignete Maßnahmen zu ergreifen, um die Chancen von KI zu nutzen und potenzielle Risiken zu minimieren.\u001b[00m\n",
      "\n",
      "\n",
      "Ergebnis des Teams:\n",
      "# Auswirkungen von KI auf den Arbeitsmarkt\n",
      "\n",
      "Die Analyse der Auswirkungen von künstlicher Intelligenz (KI) auf den Arbeitsmarkt verdeutlicht eine rapide Entwicklung mit vielfältigen Konsequenzen für die Beschäftigungssituation. Untersuchungen, wie die von McKinsey & Company aus 2017 und dem Weltwirtschaftsforum von 2018, betonen, dass KI sowohl Arbeitsplätze ersetzen als auch neue schaffen kann. Bis 2030 könnten laut McKinsey & Company weltweit zwischen 75 Millionen und 375 Millionen Menschen von Automatisierung betroffen sein, was eine verstärkte Umschulung und Anpassung erfordert.\n",
      "\n",
      "Es zeigt sich, dass bestimmte Berufe anfälliger für Automatisierung sind, insbesondere solche mit routinemäßigen und repetitiven Tätigkeiten. Tätigkeiten, die komplexe zwischenmenschliche Interaktionen erfordern, hingegen sind weniger wahrscheinlich automatisiert zu werden. Prognosen deuten darauf hin, dass KI bis 2022 voraussichtlich mehr Arbeitsplätze schaffen als vernichten wird, wobei einige Branchen stärker betroffen sein könnten.\n",
      "\n",
      "Die Veränderungen durch KI erstrecken sich auf verschiedene Branchen wie das Gesundheitswesen, Finanzwesen und die Fertigung, was eine Anpassung der Arbeitskräfte an neue Anforderungen erfordert. Eine zukunftsorientierte Stärkung der Arbeitskräfte durch Zusammenarbeit von Regierungen, Bildungseinrichtungen und Unternehmen ist entscheidend, um die positiven Auswirkungen von KI auf den Arbeitsmarkt zu gewährleisten. Es liegt in der Verantwortung der Akteure, geeignete Maßnahmen zu ergreifen, um die Chancen von KI zu nutzen und potenzielle Risiken zu minimieren.\n"
     ]
    }
   ],
   "source": [
    "# Erstelle die Crew\n",
    "crew = Crew(\n",
    "    agents=[researcher, analyst, writer],\n",
    "    tasks=[research_task, analysis_task, writing_task],\n",
    "    process=Process.sequential  # Die Aufgaben werden nacheinander ausgeführt\n",
    ")\n",
    "\n",
    "# Führe die Crew aus\n",
    "result = crew.kickoff()\n",
    "\n",
    "# Zeige das Ergebnis an\n",
    "print(\"Ergebnis des Teams:\")\n",
    "print(result)"
   ]
  },
  {
   "cell_type": "markdown",
   "id": "09a8aa31",
   "metadata": {},
   "source": []
  }
 ],
 "metadata": {
  "kernelspec": {
   "display_name": "crew",
   "language": "python",
   "name": "python3"
  },
  "language_info": {
   "codemirror_mode": {
    "name": "ipython",
    "version": 3
   },
   "file_extension": ".py",
   "mimetype": "text/x-python",
   "name": "python",
   "nbconvert_exporter": "python",
   "pygments_lexer": "ipython3",
   "version": "3.10.16"
  }
 },
 "nbformat": 4,
 "nbformat_minor": 5
}
